{
 "cells": [
  {
   "cell_type": "markdown",
   "metadata": {},
   "source": [
    "HW 3: Logistic Regressions and Thresholds\n",
    "Classification problem. Analysed the expression of 2 genes, Lars2 and Malat1 and how they relate to cell age. Used logistic regression through statsmodels and multiparameter logistic regression. Adjusted the threshold to improve sensitivity and specificity of the mature and immature cells. "
   ]
  },
  {
   "cell_type": "code",
   "execution_count": 1,
   "metadata": {
    "collapsed": true
   },
   "outputs": [],
   "source": [
    "import numpy as np\n",
    "import scipy as sci\n",
    "import pandas as pd\n",
    "import matplotlib.pyplot as plt\n",
    "% matplotlib inline"
   ]
  },
  {
   "cell_type": "code",
   "execution_count": 2,
   "metadata": {},
   "outputs": [
    {
     "data": {
      "text/html": [
       "<div>\n",
       "<style scoped>\n",
       "    .dataframe tbody tr th:only-of-type {\n",
       "        vertical-align: middle;\n",
       "    }\n",
       "\n",
       "    .dataframe tbody tr th {\n",
       "        vertical-align: top;\n",
       "    }\n",
       "\n",
       "    .dataframe thead th {\n",
       "        text-align: right;\n",
       "    }\n",
       "</style>\n",
       "<table border=\"1\" class=\"dataframe\">\n",
       "  <thead>\n",
       "    <tr style=\"text-align: right;\">\n",
       "      <th></th>\n",
       "      <th>Lars2</th>\n",
       "      <th>Malat1</th>\n",
       "      <th>mature</th>\n",
       "    </tr>\n",
       "  </thead>\n",
       "  <tbody>\n",
       "    <tr>\n",
       "      <th>0</th>\n",
       "      <td>9.95</td>\n",
       "      <td>6.69</td>\n",
       "      <td>1</td>\n",
       "    </tr>\n",
       "    <tr>\n",
       "      <th>1</th>\n",
       "      <td>10.54</td>\n",
       "      <td>8.53</td>\n",
       "      <td>1</td>\n",
       "    </tr>\n",
       "    <tr>\n",
       "      <th>2</th>\n",
       "      <td>6.58</td>\n",
       "      <td>8.74</td>\n",
       "      <td>1</td>\n",
       "    </tr>\n",
       "    <tr>\n",
       "      <th>3</th>\n",
       "      <td>7.49</td>\n",
       "      <td>9.09</td>\n",
       "      <td>1</td>\n",
       "    </tr>\n",
       "    <tr>\n",
       "      <th>4</th>\n",
       "      <td>7.42</td>\n",
       "      <td>9.87</td>\n",
       "      <td>1</td>\n",
       "    </tr>\n",
       "  </tbody>\n",
       "</table>\n",
       "</div>"
      ],
      "text/plain": [
       "   Lars2  Malat1  mature\n",
       "0   9.95    6.69       1\n",
       "1  10.54    8.53       1\n",
       "2   6.58    8.74       1\n",
       "3   7.49    9.09       1\n",
       "4   7.42    9.87       1"
      ]
     },
     "execution_count": 2,
     "metadata": {},
     "output_type": "execute_result"
    }
   ],
   "source": [
    "data = pd.read_csv(\"hw3_divseq_data.csv\")\n",
    "data.head()\n"
   ]
  },
  {
   "cell_type": "code",
   "execution_count": 3,
   "metadata": {},
   "outputs": [
    {
     "data": {
      "text/html": [
       "<div>\n",
       "<style scoped>\n",
       "    .dataframe tbody tr th:only-of-type {\n",
       "        vertical-align: middle;\n",
       "    }\n",
       "\n",
       "    .dataframe tbody tr th {\n",
       "        vertical-align: top;\n",
       "    }\n",
       "\n",
       "    .dataframe thead th {\n",
       "        text-align: right;\n",
       "    }\n",
       "</style>\n",
       "<table border=\"1\" class=\"dataframe\">\n",
       "  <thead>\n",
       "    <tr style=\"text-align: right;\">\n",
       "      <th></th>\n",
       "      <th>Lars2</th>\n",
       "      <th>Malat1</th>\n",
       "      <th>mature</th>\n",
       "    </tr>\n",
       "  </thead>\n",
       "  <tbody>\n",
       "    <tr>\n",
       "      <th>count</th>\n",
       "      <td>817.000000</td>\n",
       "      <td>817.000000</td>\n",
       "      <td>817.000000</td>\n",
       "    </tr>\n",
       "    <tr>\n",
       "      <th>mean</th>\n",
       "      <td>5.777638</td>\n",
       "      <td>7.684419</td>\n",
       "      <td>0.201958</td>\n",
       "    </tr>\n",
       "    <tr>\n",
       "      <th>std</th>\n",
       "      <td>1.435352</td>\n",
       "      <td>1.324606</td>\n",
       "      <td>0.401707</td>\n",
       "    </tr>\n",
       "    <tr>\n",
       "      <th>min</th>\n",
       "      <td>0.000000</td>\n",
       "      <td>0.000000</td>\n",
       "      <td>0.000000</td>\n",
       "    </tr>\n",
       "    <tr>\n",
       "      <th>25%</th>\n",
       "      <td>4.900000</td>\n",
       "      <td>6.790000</td>\n",
       "      <td>0.000000</td>\n",
       "    </tr>\n",
       "    <tr>\n",
       "      <th>50%</th>\n",
       "      <td>5.750000</td>\n",
       "      <td>7.730000</td>\n",
       "      <td>0.000000</td>\n",
       "    </tr>\n",
       "    <tr>\n",
       "      <th>75%</th>\n",
       "      <td>6.770000</td>\n",
       "      <td>8.620000</td>\n",
       "      <td>0.000000</td>\n",
       "    </tr>\n",
       "    <tr>\n",
       "      <th>max</th>\n",
       "      <td>10.540000</td>\n",
       "      <td>11.080000</td>\n",
       "      <td>1.000000</td>\n",
       "    </tr>\n",
       "  </tbody>\n",
       "</table>\n",
       "</div>"
      ],
      "text/plain": [
       "            Lars2      Malat1      mature\n",
       "count  817.000000  817.000000  817.000000\n",
       "mean     5.777638    7.684419    0.201958\n",
       "std      1.435352    1.324606    0.401707\n",
       "min      0.000000    0.000000    0.000000\n",
       "25%      4.900000    6.790000    0.000000\n",
       "50%      5.750000    7.730000    0.000000\n",
       "75%      6.770000    8.620000    0.000000\n",
       "max     10.540000   11.080000    1.000000"
      ]
     },
     "execution_count": 3,
     "metadata": {},
     "output_type": "execute_result"
    }
   ],
   "source": [
    "data.describe()"
   ]
  },
  {
   "cell_type": "code",
   "execution_count": 4,
   "metadata": {},
   "outputs": [
    {
     "data": {
      "text/plain": [
       "<matplotlib.text.Text at 0x25ea6522ef0>"
      ]
     },
     "execution_count": 4,
     "metadata": {},
     "output_type": "execute_result"
    },
    {
     "data": {
      "image/png": "[encoded data removed]",
      "text/plain": [
       "<matplotlib.figure.Figure at 0x25ea61e9978>"
      ]
     },
     "metadata": {},
     "output_type": "display_data"
    },
    {
     "data": {
      "image/png": "[encoded data removed]",
      "text/plain": [
       "<matplotlib.figure.Figure at 0x25ea61e99e8>"
      ]
     },
     "metadata": {},
     "output_type": "display_data"
    }
   ],
   "source": [
    "data.boxplot(column = \"Lars2\", by = \"mature\")\n",
    "plt.ylabel(\"gene expression of Lars2\")\n",
    "data.boxplot(column = 'Malat1', by= 'mature')\n",
    "plt.ylabel(\"gene expression of Malat1\")"
   ]
  },
  {
   "cell_type": "code",
   "execution_count": 5,
   "metadata": {
    "collapsed": true
   },
   "outputs": [],
   "source": [
    "import scipy\n",
    "import statsmodels.api as sm\n",
    "import statsmodels.formula.api\n"
   ]
  },
  {
   "cell_type": "code",
   "execution_count": 6,
   "metadata": {},
   "outputs": [
    {
     "name": "stdout",
     "output_type": "stream",
     "text": [
      "Optimization terminated successfully.\n",
      "         Current function value: 0.235975\n",
      "         Iterations 9\n"
     ]
    },
    {
     "data": {
      "text/html": [
       "<table class=\"simpletable\">\n",
       "<caption>Logit Regression Results</caption>\n",
       "<tr>\n",
       "  <th>Dep. Variable:</th>      <td>mature</td>      <th>  No. Observations:  </th>  <td>   817</td>  \n",
       "</tr>\n",
       "<tr>\n",
       "  <th>Model:</th>               <td>Logit</td>      <th>  Df Residuals:      </th>  <td>   815</td>  \n",
       "</tr>\n",
       "<tr>\n",
       "  <th>Method:</th>               <td>MLE</td>       <th>  Df Model:          </th>  <td>     1</td>  \n",
       "</tr>\n",
       "<tr>\n",
       "  <th>Date:</th>          <td>Thu, 25 Oct 2018</td> <th>  Pseudo R-squ.:     </th>  <td>0.5310</td>  \n",
       "</tr>\n",
       "<tr>\n",
       "  <th>Time:</th>              <td>23:44:29</td>     <th>  Log-Likelihood:    </th> <td> -192.79</td> \n",
       "</tr>\n",
       "<tr>\n",
       "  <th>converged:</th>           <td>True</td>       <th>  LL-Null:           </th> <td> -411.04</td> \n",
       "</tr>\n",
       "<tr>\n",
       "  <th> </th>                      <td> </td>        <th>  LLR p-value:       </th> <td>6.284e-97</td>\n",
       "</tr>\n",
       "</table>\n",
       "<table class=\"simpletable\">\n",
       "<tr>\n",
       "    <td></td>       <th>coef</th>     <th>std err</th>      <th>z</th>      <th>P>|z|</th>  <th>[0.025</th>    <th>0.975]</th>  \n",
       "</tr>\n",
       "<tr>\n",
       "  <th>const</th> <td>  -17.9775</td> <td>    1.432</td> <td>  -12.556</td> <td> 0.000</td> <td>  -20.784</td> <td>  -15.171</td>\n",
       "</tr>\n",
       "<tr>\n",
       "  <th>Lars2</th> <td>    2.5422</td> <td>    0.209</td> <td>   12.191</td> <td> 0.000</td> <td>    2.134</td> <td>    2.951</td>\n",
       "</tr>\n",
       "</table>"
      ],
      "text/plain": [
       "<class 'statsmodels.iolib.summary.Summary'>\n",
       "\"\"\"\n",
       "                           Logit Regression Results                           \n",
       "==============================================================================\n",
       "Dep. Variable:                 mature   No. Observations:                  817\n",
       "Model:                          Logit   Df Residuals:                      815\n",
       "Method:                           MLE   Df Model:                            1\n",
       "Date:                Thu, 25 Oct 2018   Pseudo R-squ.:                  0.5310\n",
       "Time:                        23:44:29   Log-Likelihood:                -192.79\n",
       "converged:                       True   LL-Null:                       -411.04\n",
       "                                        LLR p-value:                 6.284e-97\n",
       "==============================================================================\n",
       "                 coef    std err          z      P>|z|      [0.025      0.975]\n",
       "------------------------------------------------------------------------------\n",
       "const        -17.9775      1.432    -12.556      0.000     -20.784     -15.171\n",
       "Lars2          2.5422      0.209     12.191      0.000       2.134       2.951\n",
       "==============================================================================\n",
       "\"\"\""
      ]
     },
     "execution_count": 6,
     "metadata": {},
     "output_type": "execute_result"
    }
   ],
   "source": [
    "\"\"\"fit a logistic regression of cell maturity based on Lars2 gene only\"\"\"\n",
    "add_constant = sm.add_constant(data[\"Lars2\"])\n",
    "logistic= sm.Logit(data[\"mature\"], add_constant)\n",
    "results = logistic.fit()\n",
    "results.summary()"
   ]
  },
  {
   "cell_type": "code",
   "execution_count": 7,
   "metadata": {},
   "outputs": [
    {
     "name": "stdout",
     "output_type": "stream",
     "text": [
      "pvalues:\n",
      "const    3.679364e-36\n",
      "Lars2    3.455778e-34\n",
      "dtype: float64\n",
      "\n",
      "tvalues:\n",
      "const   -12.556120\n",
      "Lars2    12.191366\n",
      "dtype: float64\n"
     ]
    }
   ],
   "source": [
    "print(\"pvalues:\")\n",
    "print(results.pvalues)\n",
    "print()\n",
    "print(\"tvalues:\")\n",
    "print(results.tvalues)"
   ]
  },
  {
   "cell_type": "code",
   "execution_count": 8,
   "metadata": {},
   "outputs": [
    {
     "data": {
      "text/plain": [
       "0    0.999337\n",
       "1    0.999852\n",
       "2    0.222766\n",
       "3    0.743419\n",
       "4    0.708034\n",
       "dtype: float64"
      ]
     },
     "execution_count": 8,
     "metadata": {},
     "output_type": "execute_result"
    }
   ],
   "source": [
    "predicted_maturity = results.predict(add_constant)\n",
    "predicted_maturity.head()"
   ]
  },
  {
   "cell_type": "code",
   "execution_count": 9,
   "metadata": {
    "scrolled": false
   },
   "outputs": [
    {
     "data": {
      "text/plain": [
       "<matplotlib.collections.PathCollection at 0x25ea887acc0>"
      ]
     },
     "execution_count": 9,
     "metadata": {},
     "output_type": "execute_result"
    },
    {
     "data": {
      "image/png": "[encoded data removed]",
      "text/plain": [
       "<matplotlib.figure.Figure at 0x25ea87e0be0>"
      ]
     },
     "metadata": {},
     "output_type": "display_data"
    }
   ],
   "source": [
    "plt.scatter(data[\"Lars2\"], predicted_maturity)"
   ]
  },
  {
   "cell_type": "code",
   "execution_count": 10,
   "metadata": {},
   "outputs": [
    {
     "data": {
      "text/html": [
       "<div>\n",
       "<style scoped>\n",
       "    .dataframe tbody tr th:only-of-type {\n",
       "        vertical-align: middle;\n",
       "    }\n",
       "\n",
       "    .dataframe tbody tr th {\n",
       "        vertical-align: top;\n",
       "    }\n",
       "\n",
       "    .dataframe thead th {\n",
       "        text-align: right;\n",
       "    }\n",
       "</style>\n",
       "<table border=\"1\" class=\"dataframe\">\n",
       "  <thead>\n",
       "    <tr style=\"text-align: right;\">\n",
       "      <th></th>\n",
       "      <th>Lars2</th>\n",
       "      <th>Malat1</th>\n",
       "      <th>mature</th>\n",
       "      <th>probability</th>\n",
       "    </tr>\n",
       "  </thead>\n",
       "  <tbody>\n",
       "    <tr>\n",
       "      <th>0</th>\n",
       "      <td>9.95</td>\n",
       "      <td>6.69</td>\n",
       "      <td>1</td>\n",
       "      <td>0.999337</td>\n",
       "    </tr>\n",
       "    <tr>\n",
       "      <th>1</th>\n",
       "      <td>10.54</td>\n",
       "      <td>8.53</td>\n",
       "      <td>1</td>\n",
       "      <td>0.999852</td>\n",
       "    </tr>\n",
       "    <tr>\n",
       "      <th>2</th>\n",
       "      <td>6.58</td>\n",
       "      <td>8.74</td>\n",
       "      <td>1</td>\n",
       "      <td>0.222766</td>\n",
       "    </tr>\n",
       "    <tr>\n",
       "      <th>3</th>\n",
       "      <td>7.49</td>\n",
       "      <td>9.09</td>\n",
       "      <td>1</td>\n",
       "      <td>0.743419</td>\n",
       "    </tr>\n",
       "    <tr>\n",
       "      <th>4</th>\n",
       "      <td>7.42</td>\n",
       "      <td>9.87</td>\n",
       "      <td>1</td>\n",
       "      <td>0.708034</td>\n",
       "    </tr>\n",
       "  </tbody>\n",
       "</table>\n",
       "</div>"
      ],
      "text/plain": [
       "   Lars2  Malat1  mature  probability\n",
       "0   9.95    6.69       1     0.999337\n",
       "1  10.54    8.53       1     0.999852\n",
       "2   6.58    8.74       1     0.222766\n",
       "3   7.49    9.09       1     0.743419\n",
       "4   7.42    9.87       1     0.708034"
      ]
     },
     "execution_count": 10,
     "metadata": {},
     "output_type": "execute_result"
    }
   ],
   "source": [
    "#calculate the probability of a cell being mature based off of Lars2 gene only\n",
    "data[\"probability\"] = predicted_maturity\n",
    "data.head()"
   ]
  },
  {
   "cell_type": "code",
   "execution_count": 11,
   "metadata": {},
   "outputs": [
    {
     "data": {
      "text/html": [
       "<div>\n",
       "<style scoped>\n",
       "    .dataframe tbody tr th:only-of-type {\n",
       "        vertical-align: middle;\n",
       "    }\n",
       "\n",
       "    .dataframe tbody tr th {\n",
       "        vertical-align: top;\n",
       "    }\n",
       "\n",
       "    .dataframe thead th {\n",
       "        text-align: right;\n",
       "    }\n",
       "</style>\n",
       "<table border=\"1\" class=\"dataframe\">\n",
       "  <thead>\n",
       "    <tr style=\"text-align: right;\">\n",
       "      <th></th>\n",
       "      <th>Lars2</th>\n",
       "      <th>Malat1</th>\n",
       "      <th>mature</th>\n",
       "      <th>probability</th>\n",
       "      <th>prediction</th>\n",
       "    </tr>\n",
       "  </thead>\n",
       "  <tbody>\n",
       "    <tr>\n",
       "      <th>0</th>\n",
       "      <td>9.95</td>\n",
       "      <td>6.69</td>\n",
       "      <td>1</td>\n",
       "      <td>0.999337</td>\n",
       "      <td>1</td>\n",
       "    </tr>\n",
       "    <tr>\n",
       "      <th>1</th>\n",
       "      <td>10.54</td>\n",
       "      <td>8.53</td>\n",
       "      <td>1</td>\n",
       "      <td>0.999852</td>\n",
       "      <td>1</td>\n",
       "    </tr>\n",
       "    <tr>\n",
       "      <th>2</th>\n",
       "      <td>6.58</td>\n",
       "      <td>8.74</td>\n",
       "      <td>1</td>\n",
       "      <td>0.222766</td>\n",
       "      <td>0</td>\n",
       "    </tr>\n",
       "    <tr>\n",
       "      <th>3</th>\n",
       "      <td>7.49</td>\n",
       "      <td>9.09</td>\n",
       "      <td>1</td>\n",
       "      <td>0.743419</td>\n",
       "      <td>1</td>\n",
       "    </tr>\n",
       "    <tr>\n",
       "      <th>4</th>\n",
       "      <td>7.42</td>\n",
       "      <td>9.87</td>\n",
       "      <td>1</td>\n",
       "      <td>0.708034</td>\n",
       "      <td>1</td>\n",
       "    </tr>\n",
       "  </tbody>\n",
       "</table>\n",
       "</div>"
      ],
      "text/plain": [
       "   Lars2  Malat1  mature  probability  prediction\n",
       "0   9.95    6.69       1     0.999337           1\n",
       "1  10.54    8.53       1     0.999852           1\n",
       "2   6.58    8.74       1     0.222766           0\n",
       "3   7.49    9.09       1     0.743419           1\n",
       "4   7.42    9.87       1     0.708034           1"
      ]
     },
     "execution_count": 11,
     "metadata": {},
     "output_type": "execute_result"
    }
   ],
   "source": [
    "predictions = list(predicted_maturity >0.5)\n",
    "data[\"prediction\"] = [int(i) for i in predictions]\n",
    "data.head()"
   ]
  },
  {
   "cell_type": "code",
   "execution_count": 12,
   "metadata": {},
   "outputs": [
    {
     "name": "stdout",
     "output_type": "stream",
     "text": [
      "   Lars2  Malat1  mature  probability  prediction\n",
      "0   9.95    6.69       1     0.999337           1\n",
      "1  10.54    8.53       1     0.999852           1\n",
      "2   6.58    8.74       1     0.222766           0\n",
      "3   7.49    9.09       1     0.743419           1\n",
      "4   7.42    9.87       1     0.708034           1\n",
      "     Lars2  Malat1  mature  probability  prediction\n",
      "165   4.93    6.85       0     0.004302           0\n",
      "166   4.20    7.40       0     0.000675           0\n",
      "167   5.12    7.85       0     0.006955           0\n",
      "168   5.04    7.84       0     0.005683           0\n",
      "169   5.10    5.75       0     0.006613           0\n"
     ]
    }
   ],
   "source": [
    "mature_specificity = data.loc[data[\"mature\"] == 1 ] #total mature cells\n",
    "immature_specificity = data.loc[data[\"mature\"] == 0] #total immature cells\n",
    "print(mature_specificity.head())\n",
    "print(immature_specificity.head())"
   ]
  },
  {
   "cell_type": "code",
   "execution_count": 13,
   "metadata": {},
   "outputs": [
    {
     "name": "stdout",
     "output_type": "stream",
     "text": [
      "sensitivity:\n",
      "0.6545454545454545\n",
      "specificity:\n",
      "0.9447852760736196\n"
     ]
    }
   ],
   "source": [
    "#50% threshold used (like Baye's Thm) as the cutoff for classification\n",
    "print(\"sensitivity:\")\n",
    "print(sum(mature_specificity[\"prediction\"])/(\\\n",
    "    int(mature_specificity[\"mature\"].count())))\n",
    "\n",
    "print(\"specificity:\")\n",
    "print(1- sum(immature_specificity[\"prediction\"])/(int(\\\n",
    "    immature_specificity[\"mature\"].count())))"
   ]
  },
  {
   "cell_type": "code",
   "execution_count": 14,
   "metadata": {},
   "outputs": [
    {
     "data": {
      "text/html": [
       "<div>\n",
       "<style scoped>\n",
       "    .dataframe tbody tr th:only-of-type {\n",
       "        vertical-align: middle;\n",
       "    }\n",
       "\n",
       "    .dataframe tbody tr th {\n",
       "        vertical-align: top;\n",
       "    }\n",
       "\n",
       "    .dataframe thead th {\n",
       "        text-align: right;\n",
       "    }\n",
       "</style>\n",
       "<table border=\"1\" class=\"dataframe\">\n",
       "  <thead>\n",
       "    <tr style=\"text-align: right;\">\n",
       "      <th></th>\n",
       "      <th>Lars2</th>\n",
       "      <th>Malat1</th>\n",
       "      <th>mature</th>\n",
       "      <th>probability</th>\n",
       "      <th>prediction</th>\n",
       "      <th>prediction_20</th>\n",
       "    </tr>\n",
       "  </thead>\n",
       "  <tbody>\n",
       "    <tr>\n",
       "      <th>0</th>\n",
       "      <td>9.95</td>\n",
       "      <td>6.69</td>\n",
       "      <td>1</td>\n",
       "      <td>0.999337</td>\n",
       "      <td>1</td>\n",
       "      <td>1</td>\n",
       "    </tr>\n",
       "    <tr>\n",
       "      <th>1</th>\n",
       "      <td>10.54</td>\n",
       "      <td>8.53</td>\n",
       "      <td>1</td>\n",
       "      <td>0.999852</td>\n",
       "      <td>1</td>\n",
       "      <td>1</td>\n",
       "    </tr>\n",
       "    <tr>\n",
       "      <th>2</th>\n",
       "      <td>6.58</td>\n",
       "      <td>8.74</td>\n",
       "      <td>1</td>\n",
       "      <td>0.222766</td>\n",
       "      <td>0</td>\n",
       "      <td>1</td>\n",
       "    </tr>\n",
       "    <tr>\n",
       "      <th>3</th>\n",
       "      <td>7.49</td>\n",
       "      <td>9.09</td>\n",
       "      <td>1</td>\n",
       "      <td>0.743419</td>\n",
       "      <td>1</td>\n",
       "      <td>1</td>\n",
       "    </tr>\n",
       "    <tr>\n",
       "      <th>4</th>\n",
       "      <td>7.42</td>\n",
       "      <td>9.87</td>\n",
       "      <td>1</td>\n",
       "      <td>0.708034</td>\n",
       "      <td>1</td>\n",
       "      <td>1</td>\n",
       "    </tr>\n",
       "  </tbody>\n",
       "</table>\n",
       "</div>"
      ],
      "text/plain": [
       "   Lars2  Malat1  mature  probability  prediction  prediction_20\n",
       "0   9.95    6.69       1     0.999337           1              1\n",
       "1  10.54    8.53       1     0.999852           1              1\n",
       "2   6.58    8.74       1     0.222766           0              1\n",
       "3   7.49    9.09       1     0.743419           1              1\n",
       "4   7.42    9.87       1     0.708034           1              1"
      ]
     },
     "execution_count": 14,
     "metadata": {},
     "output_type": "execute_result"
    }
   ],
   "source": [
    "#predictions used a 20% threshold (lower to positively classify the mature cells correctly)\n",
    "predictions_20 = list(predicted_maturity >0.2)\n",
    "data[\"prediction_20\"] = [int(i) for i in predictions_20]\n",
    "#check\n",
    "#print(list(zip(predicted_maturity, predictions_20)))\n",
    "data.head()"
   ]
  },
  {
   "cell_type": "code",
   "execution_count": 15,
   "metadata": {},
   "outputs": [
    {
     "name": "stdout",
     "output_type": "stream",
     "text": [
      "   Lars2  Malat1  mature  probability  prediction  prediction_20\n",
      "0   9.95    6.69       1     0.999337           1              1\n",
      "1  10.54    8.53       1     0.999852           1              1\n",
      "2   6.58    8.74       1     0.222766           0              1\n",
      "3   7.49    9.09       1     0.743419           1              1\n",
      "4   7.42    9.87       1     0.708034           1              1\n",
      "     Lars2  Malat1  mature  probability  prediction  prediction_20\n",
      "165   4.93    6.85       0     0.004302           0              0\n",
      "166   4.20    7.40       0     0.000675           0              0\n",
      "167   5.12    7.85       0     0.006955           0              0\n",
      "168   5.04    7.84       0     0.005683           0              0\n",
      "169   5.10    5.75       0     0.006613           0              0\n"
     ]
    }
   ],
   "source": [
    "#20% sensitivity:\n",
    "mature_specificity = data.loc[data[\"mature\"] == 1 ]\n",
    "immature_specificity = data.loc[data[\"mature\"] == 0]\n",
    "print(mature_specificity.head())\n",
    "print(immature_specificity.head())"
   ]
  },
  {
   "cell_type": "code",
   "execution_count": 16,
   "metadata": {},
   "outputs": [
    {
     "name": "stdout",
     "output_type": "stream",
     "text": [
      "sensitivity:\n",
      "0.9090909090909091\n",
      "specificity:\n",
      "0.8680981595092024\n"
     ]
    }
   ],
   "source": [
    "print(\"sensitivity:\")\n",
    "print(sum(mature_specificity[\"prediction_20\"])/(int(\\\n",
    "    mature_specificity[\"mature\"].count())))\n",
    "print(\"specificity:\")\n",
    "print(1- sum(immature_specificity[\"prediction_20\"])/(int(\\\n",
    "    immature_specificity[\"mature\"].count())))"
   ]
  },
  {
   "cell_type": "code",
   "execution_count": 17,
   "metadata": {},
   "outputs": [
    {
     "data": {
      "text/plain": [
       "<matplotlib.text.Text at 0x25ea88d0748>"
      ]
     },
     "execution_count": 17,
     "metadata": {},
     "output_type": "execute_result"
    },
    {
     "data": {
      "image/png": "[encoded data removed]",
      "text/plain": [
       "<matplotlib.figure.Figure at 0x25ea8884898>"
      ]
     },
     "metadata": {},
     "output_type": "display_data"
    }
   ],
   "source": [
    "# plot the mature and immature cells based on Lars2 and Malat1 gene expression\n",
    "plt1 = plt.scatter(immature_specificity[\"Lars2\"], immature_specificity[\"Malat1\"],\\\n",
    "            alpha = .6, c= \"b\", label = \"immature\")\n",
    "plt2 = plt.scatter(mature_specificity[\"Lars2\"], mature_specificity[\"Malat1\"],\\\n",
    "            alpha =0.6, c= \"r\", label = \"mature\")\n",
    "plt.legend(handles = [plt1, plt2])\n",
    "plt.xlabel(\"Lars2\")\n",
    "plt.ylabel(\"Malat1\")"
   ]
  },
  {
   "cell_type": "code",
   "execution_count": 18,
   "metadata": {},
   "outputs": [
    {
     "name": "stdout",
     "output_type": "stream",
     "text": [
      "Optimization terminated successfully.\n",
      "         Current function value: 0.196827\n",
      "         Iterations 9\n"
     ]
    },
    {
     "data": {
      "text/html": [
       "<table class=\"simpletable\">\n",
       "<caption>Logit Regression Results</caption>\n",
       "<tr>\n",
       "  <th>Dep. Variable:</th>         <td>y</td>        <th>  No. Observations:  </th>   <td>   817</td>  \n",
       "</tr>\n",
       "<tr>\n",
       "  <th>Model:</th>               <td>Logit</td>      <th>  Df Residuals:      </th>   <td>   814</td>  \n",
       "</tr>\n",
       "<tr>\n",
       "  <th>Method:</th>               <td>MLE</td>       <th>  Df Model:          </th>   <td>     2</td>  \n",
       "</tr>\n",
       "<tr>\n",
       "  <th>Date:</th>          <td>Thu, 25 Oct 2018</td> <th>  Pseudo R-squ.:     </th>   <td>0.6088</td>  \n",
       "</tr>\n",
       "<tr>\n",
       "  <th>Time:</th>              <td>23:44:34</td>     <th>  Log-Likelihood:    </th>  <td> -160.81</td> \n",
       "</tr>\n",
       "<tr>\n",
       "  <th>converged:</th>           <td>True</td>       <th>  LL-Null:           </th>  <td> -411.04</td> \n",
       "</tr>\n",
       "<tr>\n",
       "  <th> </th>                      <td> </td>        <th>  LLR p-value:       </th> <td>2.122e-109</td>\n",
       "</tr>\n",
       "</table>\n",
       "<table class=\"simpletable\">\n",
       "<tr>\n",
       "     <td></td>       <th>coef</th>     <th>std err</th>      <th>z</th>      <th>P>|z|</th>  <th>[0.025</th>    <th>0.975]</th>  \n",
       "</tr>\n",
       "<tr>\n",
       "  <th>const</th>  <td>  -25.5697</td> <td>    2.177</td> <td>  -11.743</td> <td> 0.000</td> <td>  -29.838</td> <td>  -21.302</td>\n",
       "</tr>\n",
       "<tr>\n",
       "  <th>Lars2</th>  <td>    2.3119</td> <td>    0.223</td> <td>   10.354</td> <td> 0.000</td> <td>    1.874</td> <td>    2.750</td>\n",
       "</tr>\n",
       "<tr>\n",
       "  <th>Malat1</th> <td>    1.0836</td> <td>    0.156</td> <td>    6.941</td> <td> 0.000</td> <td>    0.778</td> <td>    1.390</td>\n",
       "</tr>\n",
       "</table>"
      ],
      "text/plain": [
       "<class 'statsmodels.iolib.summary.Summary'>\n",
       "\"\"\"\n",
       "                           Logit Regression Results                           \n",
       "==============================================================================\n",
       "Dep. Variable:                      y   No. Observations:                  817\n",
       "Model:                          Logit   Df Residuals:                      814\n",
       "Method:                           MLE   Df Model:                            2\n",
       "Date:                Thu, 25 Oct 2018   Pseudo R-squ.:                  0.6088\n",
       "Time:                        23:44:34   Log-Likelihood:                -160.81\n",
       "converged:                       True   LL-Null:                       -411.04\n",
       "                                        LLR p-value:                2.122e-109\n",
       "==============================================================================\n",
       "                 coef    std err          z      P>|z|      [0.025      0.975]\n",
       "------------------------------------------------------------------------------\n",
       "const        -25.5697      2.177    -11.743      0.000     -29.838     -21.302\n",
       "Lars2          2.3119      0.223     10.354      0.000       1.874       2.750\n",
       "Malat1         1.0836      0.156      6.941      0.000       0.778       1.390\n",
       "==============================================================================\n",
       "\"\"\""
      ]
     },
     "execution_count": 18,
     "metadata": {},
     "output_type": "execute_result"
    }
   ],
   "source": [
    "\"\"\"Fit a logistic regression based on both genes instead of 1\"\"\"\n",
    "X_values = data[[\"Lars2\", \"Malat1\"]]\n",
    "\n",
    "new_x = sm.add_constant(X_values)\n",
    "\n",
    "\n",
    "logistic_m= sm.Logit(list(data[\"mature\"]), new_x)\n",
    "results_multi = logistic_m.fit()\n",
    "results_multi.summary()"
   ]
  },
  {
   "cell_type": "code",
   "execution_count": 19,
   "metadata": {},
   "outputs": [
    {
     "name": "stdout",
     "output_type": "stream",
     "text": [
      "tvalues:\n",
      "const    -11.742782\n",
      "Lars2     10.354432\n",
      "Malat1     6.941281\n",
      "dtype: float64\n",
      "pvalues:\n",
      "const     7.691410e-32\n",
      "Lars2     3.995510e-25\n",
      "Malat1    3.885592e-12\n",
      "dtype: float64\n"
     ]
    }
   ],
   "source": [
    "print(\"tvalues:\")\n",
    "print(results_multi.tvalues)\n",
    "print(\"pvalues:\")\n",
    "print(results_multi.pvalues)\n"
   ]
  },
  {
   "cell_type": "code",
   "execution_count": 20,
   "metadata": {},
   "outputs": [
    {
     "data": {
      "text/plain": [
       "0    0.990834\n",
       "1    0.999678\n",
       "2    0.291770\n",
       "3    0.831501\n",
       "4    0.907178\n",
       "dtype: float64"
      ]
     },
     "execution_count": 20,
     "metadata": {},
     "output_type": "execute_result"
    }
   ],
   "source": [
    "predicted_maturity_multi = results_multi.predict(new_x)\n",
    "predicted_maturity_multi.head()"
   ]
  },
  {
   "cell_type": "code",
   "execution_count": 21,
   "metadata": {},
   "outputs": [
    {
     "data": {
      "text/html": [
       "<div>\n",
       "<style scoped>\n",
       "    .dataframe tbody tr th:only-of-type {\n",
       "        vertical-align: middle;\n",
       "    }\n",
       "\n",
       "    .dataframe tbody tr th {\n",
       "        vertical-align: top;\n",
       "    }\n",
       "\n",
       "    .dataframe thead th {\n",
       "        text-align: right;\n",
       "    }\n",
       "</style>\n",
       "<table border=\"1\" class=\"dataframe\">\n",
       "  <thead>\n",
       "    <tr style=\"text-align: right;\">\n",
       "      <th></th>\n",
       "      <th>Lars2</th>\n",
       "      <th>Malat1</th>\n",
       "      <th>mature</th>\n",
       "      <th>probability</th>\n",
       "      <th>prediction</th>\n",
       "      <th>prediction_20</th>\n",
       "      <th>prediction_multi</th>\n",
       "    </tr>\n",
       "  </thead>\n",
       "  <tbody>\n",
       "    <tr>\n",
       "      <th>0</th>\n",
       "      <td>9.95</td>\n",
       "      <td>6.69</td>\n",
       "      <td>1</td>\n",
       "      <td>0.999337</td>\n",
       "      <td>1</td>\n",
       "      <td>1</td>\n",
       "      <td>1</td>\n",
       "    </tr>\n",
       "    <tr>\n",
       "      <th>1</th>\n",
       "      <td>10.54</td>\n",
       "      <td>8.53</td>\n",
       "      <td>1</td>\n",
       "      <td>0.999852</td>\n",
       "      <td>1</td>\n",
       "      <td>1</td>\n",
       "      <td>1</td>\n",
       "    </tr>\n",
       "    <tr>\n",
       "      <th>2</th>\n",
       "      <td>6.58</td>\n",
       "      <td>8.74</td>\n",
       "      <td>1</td>\n",
       "      <td>0.222766</td>\n",
       "      <td>0</td>\n",
       "      <td>1</td>\n",
       "      <td>0</td>\n",
       "    </tr>\n",
       "    <tr>\n",
       "      <th>3</th>\n",
       "      <td>7.49</td>\n",
       "      <td>9.09</td>\n",
       "      <td>1</td>\n",
       "      <td>0.743419</td>\n",
       "      <td>1</td>\n",
       "      <td>1</td>\n",
       "      <td>1</td>\n",
       "    </tr>\n",
       "    <tr>\n",
       "      <th>4</th>\n",
       "      <td>7.42</td>\n",
       "      <td>9.87</td>\n",
       "      <td>1</td>\n",
       "      <td>0.708034</td>\n",
       "      <td>1</td>\n",
       "      <td>1</td>\n",
       "      <td>1</td>\n",
       "    </tr>\n",
       "  </tbody>\n",
       "</table>\n",
       "</div>"
      ],
      "text/plain": [
       "   Lars2  Malat1  mature  probability  prediction  prediction_20  \\\n",
       "0   9.95    6.69       1     0.999337           1              1   \n",
       "1  10.54    8.53       1     0.999852           1              1   \n",
       "2   6.58    8.74       1     0.222766           0              1   \n",
       "3   7.49    9.09       1     0.743419           1              1   \n",
       "4   7.42    9.87       1     0.708034           1              1   \n",
       "\n",
       "   prediction_multi  \n",
       "0                 1  \n",
       "1                 1  \n",
       "2                 0  \n",
       "3                 1  \n",
       "4                 1  "
      ]
     },
     "execution_count": 21,
     "metadata": {},
     "output_type": "execute_result"
    }
   ],
   "source": [
    "predictions_multi = list(predicted_maturity_multi >0.5)\n",
    "data[\"prediction_multi\"] = [int(i) for i in predictions_multi]\n",
    "data.head()"
   ]
  },
  {
   "cell_type": "code",
   "execution_count": 22,
   "metadata": {},
   "outputs": [
    {
     "name": "stdout",
     "output_type": "stream",
     "text": [
      "sensitivity:\n",
      "0.7272727272727273\n",
      "specificity:\n"
     ]
    },
    {
     "data": {
      "text/plain": [
       "0.9478527607361963"
      ]
     },
     "execution_count": 22,
     "metadata": {},
     "output_type": "execute_result"
    }
   ],
   "source": [
    "mature_specificity_multi = data.loc[data[\"mature\"] == 1 ]\n",
    "immature_specificity_multi = data.loc[data[\"mature\"] == 0]\n",
    "print(\"sensitivity:\")\n",
    "print(sum(mature_specificity_multi[\"prediction_multi\"])/(int(\\\n",
    "            mature_specificity_multi[\"mature\"].count())))\n",
    "print(\"specificity:\")\n",
    "1- sum(immature_specificity_multi[\"prediction_multi\"])/(int(\\\n",
    "            immature_specificity_multi[\"mature\"].count()))"
   ]
  }
 ],
 "metadata": {
  "kernelspec": {
   "display_name": "Python 3",
   "language": "python",
   "name": "python3"
  },
  "language_info": {
   "codemirror_mode": {
    "name": "ipython",
    "version": 3
   },
   "file_extension": ".py",
   "mimetype": "text/x-python",
   "name": "python",
   "nbconvert_exporter": "python",
   "pygments_lexer": "ipython3",
   "version": "3.6.0"
  }
 },
 "nbformat": 4,
 "nbformat_minor": 2
}
