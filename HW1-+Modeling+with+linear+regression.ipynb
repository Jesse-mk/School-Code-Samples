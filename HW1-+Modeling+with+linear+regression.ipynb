{
 "cells": [
  {
   "cell_type": "markdown",
   "metadata": {},
   "source": [
    "Exploring a data set with income and education"
   ]
  },
  {
   "cell_type": "code",
   "execution_count": 11,
   "metadata": {
    "collapsed": true
   },
   "outputs": [],
   "source": [
    "import numpy as np\n",
    "import csv\n",
    "import pandas as pd\n",
    "import matplotlib as plt\n",
    "import matplotlib.pyplot as plot\n",
    "% matplotlib inline"
   ]
  },
  {
   "cell_type": "code",
   "execution_count": 12,
   "metadata": {
    "collapsed": true
   },
   "outputs": [],
   "source": [
    "data = pd.read_csv(\"Income2.csv\")\n",
    "data.head()\n",
    "altered_data = pd.read_csv(\"Income2.csv\")\n",
    "altered_data.rename(columns= {'Income': 'Income (1000s of dollars)', \"Education\": 'Education (Years)'}, inplace = True)"
   ]
  },
  {
   "cell_type": "code",
   "execution_count": 13,
   "metadata": {},
   "outputs": [
    {
     "data": {
      "text/plain": [
       "<matplotlib.axes._subplots.AxesSubplot at 0x20d610087f0>"
      ]
     },
     "execution_count": 13,
     "metadata": {},
     "output_type": "execute_result"
    },
    {
     "data": {
      "image/png": "[encoded data removed]",
      "text/plain": [
       "<matplotlib.figure.Figure at 0x20d60f4b630>"
      ]
     },
     "metadata": {},
     "output_type": "display_data"
    }
   ],
   "source": [
    "altered_data.plot.scatter(\"Education (Years)\", \"Income (1000s of dollars)\")"
   ]
  },
  {
   "cell_type": "code",
   "execution_count": 14,
   "metadata": {},
   "outputs": [
    {
     "data": {
      "text/html": [
       "<div>\n",
       "<style scoped>\n",
       "    .dataframe tbody tr th:only-of-type {\n",
       "        vertical-align: middle;\n",
       "    }\n",
       "\n",
       "    .dataframe tbody tr th {\n",
       "        vertical-align: top;\n",
       "    }\n",
       "\n",
       "    .dataframe thead th {\n",
       "        text-align: right;\n",
       "    }\n",
       "</style>\n",
       "<table border=\"1\" class=\"dataframe\">\n",
       "  <thead>\n",
       "    <tr style=\"text-align: right;\">\n",
       "      <th></th>\n",
       "      <th>Unnamed: 0</th>\n",
       "      <th>Education</th>\n",
       "      <th>Seniority</th>\n",
       "      <th>Income</th>\n",
       "    </tr>\n",
       "  </thead>\n",
       "  <tbody>\n",
       "    <tr>\n",
       "      <th>count</th>\n",
       "      <td>30.000000</td>\n",
       "      <td>30.000000</td>\n",
       "      <td>30.000000</td>\n",
       "      <td>30.000000</td>\n",
       "    </tr>\n",
       "    <tr>\n",
       "      <th>mean</th>\n",
       "      <td>15.500000</td>\n",
       "      <td>16.386207</td>\n",
       "      <td>93.862069</td>\n",
       "      <td>62.744733</td>\n",
       "    </tr>\n",
       "    <tr>\n",
       "      <th>std</th>\n",
       "      <td>8.803408</td>\n",
       "      <td>3.810622</td>\n",
       "      <td>55.715623</td>\n",
       "      <td>27.013285</td>\n",
       "    </tr>\n",
       "    <tr>\n",
       "      <th>min</th>\n",
       "      <td>1.000000</td>\n",
       "      <td>10.000000</td>\n",
       "      <td>20.000000</td>\n",
       "      <td>17.613593</td>\n",
       "    </tr>\n",
       "    <tr>\n",
       "      <th>25%</th>\n",
       "      <td>8.250000</td>\n",
       "      <td>12.482759</td>\n",
       "      <td>44.827586</td>\n",
       "      <td>36.392043</td>\n",
       "    </tr>\n",
       "    <tr>\n",
       "      <th>50%</th>\n",
       "      <td>15.500000</td>\n",
       "      <td>17.034483</td>\n",
       "      <td>94.482759</td>\n",
       "      <td>70.804791</td>\n",
       "    </tr>\n",
       "    <tr>\n",
       "      <th>75%</th>\n",
       "      <td>22.750000</td>\n",
       "      <td>19.931034</td>\n",
       "      <td>133.275862</td>\n",
       "      <td>85.930608</td>\n",
       "    </tr>\n",
       "    <tr>\n",
       "      <th>max</th>\n",
       "      <td>30.000000</td>\n",
       "      <td>21.586207</td>\n",
       "      <td>187.586207</td>\n",
       "      <td>99.917173</td>\n",
       "    </tr>\n",
       "  </tbody>\n",
       "</table>\n",
       "</div>"
      ],
      "text/plain": [
       "       Unnamed: 0  Education   Seniority     Income\n",
       "count   30.000000  30.000000   30.000000  30.000000\n",
       "mean    15.500000  16.386207   93.862069  62.744733\n",
       "std      8.803408   3.810622   55.715623  27.013285\n",
       "min      1.000000  10.000000   20.000000  17.613593\n",
       "25%      8.250000  12.482759   44.827586  36.392043\n",
       "50%     15.500000  17.034483   94.482759  70.804791\n",
       "75%     22.750000  19.931034  133.275862  85.930608\n",
       "max     30.000000  21.586207  187.586207  99.917173"
      ]
     },
     "execution_count": 14,
     "metadata": {},
     "output_type": "execute_result"
    }
   ],
   "source": [
    "stats = data.describe()\n",
    "stats"
   ]
  },
  {
   "cell_type": "code",
   "execution_count": 15,
   "metadata": {},
   "outputs": [
    {
     "name": "stdout",
     "output_type": "stream",
     "text": [
      "the mean income, standard deviation and SEM are shown below:\n"
     ]
    },
    {
     "data": {
      "text/plain": [
       "(62.74473297685128, 27.013284990301933, 4.931928513834697)"
      ]
     },
     "execution_count": 15,
     "metadata": {},
     "output_type": "execute_result"
    }
   ],
   "source": [
    "mean_income = stats[\"Income\"][\"mean\"]\n",
    "standard_deviation = stats[\"Income\"][\"std\"]\n",
    "SEM = stats[\"Income\"][\"std\"]/np.sqrt(stats[\"Income\"][\"count\"])\n",
    "print(\"the mean income, standard deviation and SEM are shown below:\")\n",
    "mean_income, standard_deviation, SEM"
   ]
  },
  {
   "cell_type": "code",
   "execution_count": 16,
   "metadata": {},
   "outputs": [
    {
     "name": "stdout",
     "output_type": "stream",
     "text": [
      "[1. 1. 0. 1. 1. 1. 1. 1. 1. 0. 0. 1. 0. 1. 0. 1. 0. 1. 1. 1. 1. 0. 1. 0.\n",
      " 1. 0. 1. 0. 0. 1.]\n"
     ]
    },
    {
     "data": {
      "text/html": [
       "<div>\n",
       "<style scoped>\n",
       "    .dataframe tbody tr th:only-of-type {\n",
       "        vertical-align: middle;\n",
       "    }\n",
       "\n",
       "    .dataframe tbody tr th {\n",
       "        vertical-align: top;\n",
       "    }\n",
       "\n",
       "    .dataframe thead th {\n",
       "        text-align: right;\n",
       "    }\n",
       "</style>\n",
       "<table border=\"1\" class=\"dataframe\">\n",
       "  <thead>\n",
       "    <tr style=\"text-align: right;\">\n",
       "      <th></th>\n",
       "      <th>Unnamed: 0</th>\n",
       "      <th>Education</th>\n",
       "      <th>Seniority</th>\n",
       "      <th>Income</th>\n",
       "      <th>HigherEd</th>\n",
       "    </tr>\n",
       "  </thead>\n",
       "  <tbody>\n",
       "    <tr>\n",
       "      <th>0</th>\n",
       "      <td>1</td>\n",
       "      <td>21.586207</td>\n",
       "      <td>113.103448</td>\n",
       "      <td>99.917173</td>\n",
       "      <td>1.0</td>\n",
       "    </tr>\n",
       "    <tr>\n",
       "      <th>1</th>\n",
       "      <td>2</td>\n",
       "      <td>18.275862</td>\n",
       "      <td>119.310345</td>\n",
       "      <td>92.579135</td>\n",
       "      <td>1.0</td>\n",
       "    </tr>\n",
       "    <tr>\n",
       "      <th>2</th>\n",
       "      <td>3</td>\n",
       "      <td>12.068966</td>\n",
       "      <td>100.689655</td>\n",
       "      <td>34.678727</td>\n",
       "      <td>0.0</td>\n",
       "    </tr>\n",
       "    <tr>\n",
       "      <th>3</th>\n",
       "      <td>4</td>\n",
       "      <td>17.034483</td>\n",
       "      <td>187.586207</td>\n",
       "      <td>78.702806</td>\n",
       "      <td>1.0</td>\n",
       "    </tr>\n",
       "    <tr>\n",
       "      <th>4</th>\n",
       "      <td>5</td>\n",
       "      <td>19.931034</td>\n",
       "      <td>20.000000</td>\n",
       "      <td>68.009922</td>\n",
       "      <td>1.0</td>\n",
       "    </tr>\n",
       "  </tbody>\n",
       "</table>\n",
       "</div>"
      ],
      "text/plain": [
       "   Unnamed: 0  Education   Seniority     Income  HigherEd\n",
       "0           1  21.586207  113.103448  99.917173       1.0\n",
       "1           2  18.275862  119.310345  92.579135       1.0\n",
       "2           3  12.068966  100.689655  34.678727       0.0\n",
       "3           4  17.034483  187.586207  78.702806       1.0\n",
       "4           5  19.931034   20.000000  68.009922       1.0"
      ]
     },
     "execution_count": 16,
     "metadata": {},
     "output_type": "execute_result"
    }
   ],
   "source": [
    "HigherEducation = []\n",
    "for years in data[\"Education\"]:\n",
    "    if years >= 16:\n",
    "        HigherEducation = np.append(HigherEducation, 1)\n",
    "    else:\n",
    "        HigherEducation = np.append(HigherEducation,0)\n",
    "print(HigherEducation)\n",
    "data[\"HigherEd\"] = HigherEducation\n",
    "data.head()"
   ]
  },
  {
   "cell_type": "code",
   "execution_count": 17,
   "metadata": {},
   "outputs": [
    {
     "data": {
      "text/plain": [
       "(    Unnamed: 0  Education   Seniority     Income  HigherEd\n",
       " 0            1  21.586207  113.103448  99.917173       1.0\n",
       " 1            2  18.275862  119.310345  92.579135       1.0\n",
       " 3            4  17.034483  187.586207  78.702806       1.0\n",
       " 4            5  19.931034   20.000000  68.009922       1.0\n",
       " 5            6  18.275862   26.206897  71.504485       1.0\n",
       " 6            7  19.931034  150.344828  87.970467       1.0\n",
       " 7            8  21.172414   82.068966  79.811030       1.0\n",
       " 8            9  20.344828   88.275862  90.006327       1.0\n",
       " 11          12  18.689655  144.137931  96.282997       1.0\n",
       " 13          14  16.620690   94.482759  66.601792       1.0\n",
       " 15          16  20.344828   94.482759  89.000701       1.0\n",
       " 17          18  16.620690   44.827586  57.681694       1.0\n",
       " 18          19  16.620690  175.172414  70.105096       1.0\n",
       " 19          20  20.344828  187.586207  98.834012       1.0\n",
       " 20          21  18.275862  100.689655  74.704699       1.0\n",
       " 22          23  17.448276   94.482759  72.078924       1.0\n",
       " 24          25  21.586207   20.000000  78.805784       1.0\n",
       " 26          27  19.931034  168.965517  90.814035       1.0\n",
       " 29          30  17.034483  106.896552  74.610960       1.0,\n",
       "     Unnamed: 0  Education   Seniority     Income  HigherEd\n",
       " 2            3  12.068966  100.689655  34.678727       0.0\n",
       " 9           10  10.000000  113.103448  45.655529       0.0\n",
       " 10          11  13.724138   51.034483  31.913808       0.0\n",
       " 12          13  11.655172   20.000000  27.982505       0.0\n",
       " 14          15  10.000000  187.586207  41.531992       0.0\n",
       " 16          17  14.137931   20.000000  28.816301       0.0\n",
       " 21          22  14.551724  137.931034  53.532106       0.0\n",
       " 23          24  10.413793   32.413793  18.570665       0.0\n",
       " 25          26  11.241379   44.827586  21.388561       0.0\n",
       " 27          28  11.655172   57.241379  22.636163       0.0\n",
       " 28          29  12.068966   32.413793  17.613593       0.0)"
      ]
     },
     "execution_count": 17,
     "metadata": {},
     "output_type": "execute_result"
    }
   ],
   "source": [
    "HigherEdYes = data.loc[data[\"HigherEd\"] == 1]\n",
    "HigherEdYes\n",
    "NoHigherEd = data.loc[data[\"HigherEd\"] == 0]\n",
    "HigherEdYes, NoHigherEd"
   ]
  },
  {
   "cell_type": "code",
   "execution_count": 18,
   "metadata": {},
   "outputs": [
    {
     "data": {
      "text/plain": [
       "{'boxes': [<matplotlib.lines.Line2D at 0x20d610bd4e0>,\n",
       "  <matplotlib.lines.Line2D at 0x20d61100ac8>],\n",
       " 'caps': [<matplotlib.lines.Line2D at 0x20d610f1a58>,\n",
       "  <matplotlib.lines.Line2D at 0x20d610f1c18>,\n",
       "  <matplotlib.lines.Line2D at 0x20d61106d30>,\n",
       "  <matplotlib.lines.Line2D at 0x20d6110dbe0>],\n",
       " 'fliers': [<matplotlib.lines.Line2D at 0x20d610f7c88>,\n",
       "  <matplotlib.lines.Line2D at 0x20d61114c50>],\n",
       " 'means': [],\n",
       " 'medians': [<matplotlib.lines.Line2D at 0x20d610f7470>,\n",
       "  <matplotlib.lines.Line2D at 0x20d6110dda0>],\n",
       " 'whiskers': [<matplotlib.lines.Line2D at 0x20d610bdc18>,\n",
       "  <matplotlib.lines.Line2D at 0x20d610bdd30>,\n",
       "  <matplotlib.lines.Line2D at 0x20d61100cc0>,\n",
       "  <matplotlib.lines.Line2D at 0x20d61106b70>]}"
      ]
     },
     "execution_count": 18,
     "metadata": {},
     "output_type": "execute_result"
    },
    {
     "data": {
      "image/png": "[encoded data removed]",
      "text/plain": [
       "<matplotlib.figure.Figure at 0x20d60a3ff28>"
      ]
     },
     "metadata": {},
     "output_type": "display_data"
    }
   ],
   "source": [
    "full_data = [HigherEdYes[\"Income\"], NoHigherEd[\"Income\"]]\n",
    "fig, axis = plot.subplots()\n",
    "axis.boxplot(full_data, labels = [\"Higher Education Income\", \"No Higher Education Income\"])\n",
    "\n"
   ]
  }
 ],
 "metadata": {
  "kernelspec": {
   "display_name": "Python 3",
   "language": "python",
   "name": "python3"
  },
  "language_info": {
   "codemirror_mode": {
    "name": "ipython",
    "version": 3
   },
   "file_extension": ".py",
   "mimetype": "text/x-python",
   "name": "python",
   "nbconvert_exporter": "python",
   "pygments_lexer": "ipython3",
   "version": "3.6.0"
  }
 },
 "nbformat": 4,
 "nbformat_minor": 2
}
