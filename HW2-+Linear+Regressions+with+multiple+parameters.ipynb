{
 "cells": [
  {
   "cell_type": "markdown",
   "metadata": {},
   "source": [
    "HW2: Linear Regressions with Multiple Parameters\n",
    "Used sklearn for regression [note: statsmodels was not compatible with the version of scipy I was using at the time so I switched over to Matlab for the linear regression tables with coefficient and p-values]. \n"
   ]
  },
  {
   "cell_type": "code",
   "execution_count": 23,
   "metadata": {
    "collapsed": true
   },
   "outputs": [],
   "source": [
    "import numpy as np\n",
    "import pandas as pd\n",
    "import matplotlib.pyplot as plt\n",
    "import matplotlib\n",
    "% matplotlib inline\n"
   ]
  },
  {
   "cell_type": "code",
   "execution_count": 24,
   "metadata": {},
   "outputs": [
    {
     "data": {
      "text/html": [
       "<div>\n",
       "<style scoped>\n",
       "    .dataframe tbody tr th:only-of-type {\n",
       "        vertical-align: middle;\n",
       "    }\n",
       "\n",
       "    .dataframe tbody tr th {\n",
       "        vertical-align: top;\n",
       "    }\n",
       "\n",
       "    .dataframe thead th {\n",
       "        text-align: right;\n",
       "    }\n",
       "</style>\n",
       "<table border=\"1\" class=\"dataframe\">\n",
       "  <thead>\n",
       "    <tr style=\"text-align: right;\">\n",
       "      <th></th>\n",
       "      <th>x1</th>\n",
       "      <th>x2</th>\n",
       "      <th>y</th>\n",
       "    </tr>\n",
       "  </thead>\n",
       "  <tbody>\n",
       "    <tr>\n",
       "      <th>0</th>\n",
       "      <td>32.5890</td>\n",
       "      <td>6.4873</td>\n",
       "      <td>4.1549</td>\n",
       "    </tr>\n",
       "    <tr>\n",
       "      <th>1</th>\n",
       "      <td>36.2320</td>\n",
       "      <td>31.7710</td>\n",
       "      <td>1.0401</td>\n",
       "    </tr>\n",
       "    <tr>\n",
       "      <th>2</th>\n",
       "      <td>5.0795</td>\n",
       "      <td>12.4490</td>\n",
       "      <td>1.3170</td>\n",
       "    </tr>\n",
       "    <tr>\n",
       "      <th>3</th>\n",
       "      <td>36.5350</td>\n",
       "      <td>21.1410</td>\n",
       "      <td>2.3423</td>\n",
       "    </tr>\n",
       "    <tr>\n",
       "      <th>4</th>\n",
       "      <td>25.2940</td>\n",
       "      <td>6.6259</td>\n",
       "      <td>1.5134</td>\n",
       "    </tr>\n",
       "  </tbody>\n",
       "</table>\n",
       "</div>"
      ],
      "text/plain": [
       "        x1       x2       y\n",
       "0  32.5890   6.4873  4.1549\n",
       "1  36.2320  31.7710  1.0401\n",
       "2   5.0795  12.4490  1.3170\n",
       "3  36.5350  21.1410  2.3423\n",
       "4  25.2940   6.6259  1.5134"
      ]
     },
     "execution_count": 24,
     "metadata": {},
     "output_type": "execute_result"
    }
   ],
   "source": [
    "data = pd.read_csv(\"HW2.csv\", names = [\"x1\", \"x2\", \"y\"])\n",
    "data.head()"
   ]
  },
  {
   "cell_type": "code",
   "execution_count": 25,
   "metadata": {},
   "outputs": [
    {
     "data": {
      "text/plain": [
       "<matplotlib.text.Text at 0x13d371e5208>"
      ]
     },
     "execution_count": 25,
     "metadata": {},
     "output_type": "execute_result"
    },
    {
     "data": {
      "image/png": "[encoded data removed]",
      "text/plain": [
       "<matplotlib.figure.Figure at 0x13d371b5320>"
      ]
     },
     "metadata": {},
     "output_type": "display_data"
    }
   ],
   "source": [
    "plt.scatter(data[\"x1\"], data[\"y\"])\n",
    "plt.xlabel(\"x1\")\n",
    "plt.ylabel(\"y\")"
   ]
  },
  {
   "cell_type": "code",
   "execution_count": 26,
   "metadata": {
    "collapsed": true
   },
   "outputs": [],
   "source": [
    "from sklearn.linear_model import LinearRegression"
   ]
  },
  {
   "cell_type": "code",
   "execution_count": 27,
   "metadata": {
    "collapsed": true
   },
   "outputs": [],
   "source": [
    "#fitting a linear Regression\n",
    "linear = LinearRegression()\n",
    "x1_values = data[[\"x1\"]]\n",
    "x2_values = data[[\"x2\"]]\n",
    "x_values = data[[\"x1\", \"x2\"]]\n",
    "y_values = data[[\"y\"]]\n"
   ]
  },
  {
   "cell_type": "code",
   "execution_count": 28,
   "metadata": {
    "collapsed": true
   },
   "outputs": [],
   "source": [
    "linear.fit(x1_values,y_values)\n",
    "y_hat = linear.predict(x1_values)"
   ]
  },
  {
   "cell_type": "code",
   "execution_count": 29,
   "metadata": {},
   "outputs": [
    {
     "data": {
      "text/plain": [
       "(38.824, 0.47608, 2.818956087761787, 0.09421895162215141)"
      ]
     },
     "execution_count": 29,
     "metadata": {},
     "output_type": "execute_result"
    }
   ],
   "source": [
    "#preparations for the linear fit\n",
    "max_x, min_x = max(data[\"x1\"]), min(data[\"x1\"])\n",
    "max_y, min_y = max(y_hat)[0], min(y_hat)[0]\n",
    "max_x, min_x, max_y, min_y"
   ]
  },
  {
   "cell_type": "code",
   "execution_count": 30,
   "metadata": {},
   "outputs": [
    {
     "data": {
      "text/plain": [
       "<matplotlib.text.Text at 0x13d3728e320>"
      ]
     },
     "execution_count": 30,
     "metadata": {},
     "output_type": "execute_result"
    },
    {
     "data": {
      "image/png": "[encoded data removed]",
      "text/plain": [
       "<matplotlib.figure.Figure at 0x13d371e5ac8>"
      ]
     },
     "metadata": {},
     "output_type": "display_data"
    }
   ],
   "source": [
    "plt.scatter(data[\"x1\"], data[\"y\"])\n",
    "plt.plot([min_x, max_x], [min_x, max_y], color = \"r\")\n",
    "plt.xlabel(\"x1\")\n",
    "plt.ylabel('y')"
   ]
  },
  {
   "cell_type": "code",
   "execution_count": 31,
   "metadata": {},
   "outputs": [
    {
     "name": "stdout",
     "output_type": "stream",
     "text": [
      "the slope is 0.0710530619689317 and the intercept is 0.06039200987998283\n"
     ]
    }
   ],
   "source": [
    "import scipy as sp\n",
    "regression_value = sp.stats.linregress(data[[\"x1\", \"y\"]])\n",
    "print(\"the slope is \" + str(regression_value[0]) +\" and the intercept is \" \\\n",
    "      + str(regression_value[1]))"
   ]
  },
  {
   "cell_type": "code",
   "execution_count": 32,
   "metadata": {},
   "outputs": [
    {
     "name": "stdout",
     "output_type": "stream",
     "text": [
      "the standard error and slope:\n"
     ]
    },
    {
     "data": {
      "text/plain": [
       "(0.012028142821562768, 0.0710530619689317)"
      ]
     },
     "execution_count": 32,
     "metadata": {},
     "output_type": "execute_result"
    }
   ],
   "source": [
    "se =sp.stats.linregress(data[[\"x1\", \"y\"]])[4]\n",
    "se\n",
    "slope = sp.stats.linregress(data[[\"x1\", \"y\"]])[0]\n",
    "print(\"the standard error and slope:\")\n",
    "se, slope"
   ]
  },
  {
   "cell_type": "code",
   "execution_count": 33,
   "metadata": {},
   "outputs": [
    {
     "name": "stdout",
     "output_type": "stream",
     "text": [
      "The 95% confidence interval is: 0.046996776325806164, 0.09510934761205724\n"
     ]
    }
   ],
   "source": [
    "print(\"The 95% confidence interval is: \" + str((slope - 2*se)) +\", \"\\\n",
    "      + str((slope + 2*se)))"
   ]
  },
  {
   "cell_type": "code",
   "execution_count": 34,
   "metadata": {
    "collapsed": true
   },
   "outputs": [],
   "source": [
    "linear= LinearRegression()\n",
    "linear.fit(x_values, y_values)\n",
    "yhat_multi = linear.predict(x_values)"
   ]
  },
  {
   "cell_type": "code",
   "execution_count": 35,
   "metadata": {
    "collapsed": true
   },
   "outputs": [],
   "source": [
    "#in matlab the coefficient values were calculated before for the mulitple linear regression line\n",
    "x1 = x1_values.values\n",
    "x2 = x2_values.values\n",
    "Y_hat_multi = 1.8659 + .057066*x1 -0.080764*x2\n"
   ]
  },
  {
   "cell_type": "code",
   "execution_count": 36,
   "metadata": {},
   "outputs": [
    {
     "data": {
      "text/plain": [
       "<matplotlib.text.Text at 0x13d36d21898>"
      ]
     },
     "execution_count": 36,
     "metadata": {},
     "output_type": "execute_result"
    },
    {
     "data": {
      "image/png": "[encoded data removed]",
      "text/plain": [
       "<matplotlib.figure.Figure at 0x13d37255978>"
      ]
     },
     "metadata": {},
     "output_type": "display_data"
    }
   ],
   "source": [
    "#the yhat values were calculated before for the linear regression line\n",
    "plt.scatter(y_values, Y_hat_multi, color = \"b\")\n",
    "plt.xlabel(\"y value\")\n",
    "plt.ylabel(\"predicted y hat value\")"
   ]
  },
  {
   "cell_type": "code",
   "execution_count": 37,
   "metadata": {
    "collapsed": true
   },
   "outputs": [],
   "source": [
    "#categorizing the worktypes based on hours spent studying\n",
    "def WorkType(x):\n",
    "    if (x < 10).all():\n",
    "        return \"Idle\"\n",
    "    elif (x < 30).all():\n",
    "        return \"Diligent\"\n",
    "    else: \n",
    "        return \"Workaholic\""
   ]
  },
  {
   "cell_type": "code",
   "execution_count": 38,
   "metadata": {},
   "outputs": [
    {
     "data": {
      "text/html": [
       "<div>\n",
       "<style scoped>\n",
       "    .dataframe tbody tr th:only-of-type {\n",
       "        vertical-align: middle;\n",
       "    }\n",
       "\n",
       "    .dataframe tbody tr th {\n",
       "        vertical-align: top;\n",
       "    }\n",
       "\n",
       "    .dataframe thead th {\n",
       "        text-align: right;\n",
       "    }\n",
       "</style>\n",
       "<table border=\"1\" class=\"dataframe\">\n",
       "  <thead>\n",
       "    <tr style=\"text-align: right;\">\n",
       "      <th></th>\n",
       "      <th>x1</th>\n",
       "      <th>x2</th>\n",
       "      <th>y</th>\n",
       "      <th>WorkType</th>\n",
       "    </tr>\n",
       "  </thead>\n",
       "  <tbody>\n",
       "    <tr>\n",
       "      <th>0</th>\n",
       "      <td>32.5890</td>\n",
       "      <td>6.4873</td>\n",
       "      <td>4.1549</td>\n",
       "      <td>Workaholic</td>\n",
       "    </tr>\n",
       "    <tr>\n",
       "      <th>1</th>\n",
       "      <td>36.2320</td>\n",
       "      <td>31.7710</td>\n",
       "      <td>1.0401</td>\n",
       "      <td>Workaholic</td>\n",
       "    </tr>\n",
       "    <tr>\n",
       "      <th>2</th>\n",
       "      <td>5.0795</td>\n",
       "      <td>12.4490</td>\n",
       "      <td>1.3170</td>\n",
       "      <td>Idle</td>\n",
       "    </tr>\n",
       "    <tr>\n",
       "      <th>3</th>\n",
       "      <td>36.5350</td>\n",
       "      <td>21.1410</td>\n",
       "      <td>2.3423</td>\n",
       "      <td>Workaholic</td>\n",
       "    </tr>\n",
       "    <tr>\n",
       "      <th>4</th>\n",
       "      <td>25.2940</td>\n",
       "      <td>6.6259</td>\n",
       "      <td>1.5134</td>\n",
       "      <td>Diligent</td>\n",
       "    </tr>\n",
       "  </tbody>\n",
       "</table>\n",
       "</div>"
      ],
      "text/plain": [
       "        x1       x2       y    WorkType\n",
       "0  32.5890   6.4873  4.1549  Workaholic\n",
       "1  36.2320  31.7710  1.0401  Workaholic\n",
       "2   5.0795  12.4490  1.3170        Idle\n",
       "3  36.5350  21.1410  2.3423  Workaholic\n",
       "4  25.2940   6.6259  1.5134    Diligent"
      ]
     },
     "execution_count": 38,
     "metadata": {},
     "output_type": "execute_result"
    }
   ],
   "source": [
    "work_type = x1_values.apply(WorkType, axis = 1)\n",
    "#x1_values\n",
    "data[\"WorkType\"] = work_type\n",
    "data.head()"
   ]
  },
  {
   "cell_type": "code",
   "execution_count": 39,
   "metadata": {
    "collapsed": true
   },
   "outputs": [],
   "source": [
    "#get the dummy variables needed for parameterization of the categorical variables\n",
    "data[\"diligent\"] = pd.get_dummies(data[\"WorkType\"])[\"Diligent\"]\n",
    "data[\"Idle\"] = pd.get_dummies(data[\"WorkType\"])[\"Idle\"]\n",
    "data[\"workaholic\"] = pd.get_dummies(data[\"WorkType\"])[\"Workaholic\"]\n",
    "#data[[\"diligent\"]]"
   ]
  },
  {
   "cell_type": "code",
   "execution_count": 40,
   "metadata": {},
   "outputs": [
    {
     "data": {
      "text/html": [
       "<div>\n",
       "<style scoped>\n",
       "    .dataframe tbody tr th:only-of-type {\n",
       "        vertical-align: middle;\n",
       "    }\n",
       "\n",
       "    .dataframe tbody tr th {\n",
       "        vertical-align: top;\n",
       "    }\n",
       "\n",
       "    .dataframe thead th {\n",
       "        text-align: right;\n",
       "    }\n",
       "</style>\n",
       "<table border=\"1\" class=\"dataframe\">\n",
       "  <thead>\n",
       "    <tr style=\"text-align: right;\">\n",
       "      <th></th>\n",
       "      <th>x1</th>\n",
       "      <th>x2</th>\n",
       "      <th>y</th>\n",
       "      <th>diligent</th>\n",
       "      <th>workaholic</th>\n",
       "    </tr>\n",
       "  </thead>\n",
       "  <tbody>\n",
       "    <tr>\n",
       "      <th>0</th>\n",
       "      <td>32.5890</td>\n",
       "      <td>6.4873</td>\n",
       "      <td>4.1549</td>\n",
       "      <td>0</td>\n",
       "      <td>1</td>\n",
       "    </tr>\n",
       "    <tr>\n",
       "      <th>1</th>\n",
       "      <td>36.2320</td>\n",
       "      <td>31.7710</td>\n",
       "      <td>1.0401</td>\n",
       "      <td>0</td>\n",
       "      <td>1</td>\n",
       "    </tr>\n",
       "    <tr>\n",
       "      <th>2</th>\n",
       "      <td>5.0795</td>\n",
       "      <td>12.4490</td>\n",
       "      <td>1.3170</td>\n",
       "      <td>0</td>\n",
       "      <td>0</td>\n",
       "    </tr>\n",
       "    <tr>\n",
       "      <th>3</th>\n",
       "      <td>36.5350</td>\n",
       "      <td>21.1410</td>\n",
       "      <td>2.3423</td>\n",
       "      <td>0</td>\n",
       "      <td>1</td>\n",
       "    </tr>\n",
       "    <tr>\n",
       "      <th>4</th>\n",
       "      <td>25.2940</td>\n",
       "      <td>6.6259</td>\n",
       "      <td>1.5134</td>\n",
       "      <td>1</td>\n",
       "      <td>0</td>\n",
       "    </tr>\n",
       "  </tbody>\n",
       "</table>\n",
       "</div>"
      ],
      "text/plain": [
       "        x1       x2       y  diligent  workaholic\n",
       "0  32.5890   6.4873  4.1549         0           1\n",
       "1  36.2320  31.7710  1.0401         0           1\n",
       "2   5.0795  12.4490  1.3170         0           0\n",
       "3  36.5350  21.1410  2.3423         0           1\n",
       "4  25.2940   6.6259  1.5134         1           0"
      ]
     },
     "execution_count": 40,
     "metadata": {},
     "output_type": "execute_result"
    }
   ],
   "source": [
    "\"\"\"I dropped the Idle category since 2 dummy variables needed for 3 possible states (otherwise too many parameters\n",
    " as some is accounted for in the intercept). Idle is used as the baseline\"\"\"\n",
    "data= data.drop(\"Idle\", axis =1)\n",
    "data = data.drop(\"WorkType\", axis = 1)\n",
    "data.head()"
   ]
  },
  {
   "cell_type": "code",
   "execution_count": 41,
   "metadata": {
    "collapsed": true
   },
   "outputs": [],
   "source": [
    "#exported the data to Matlab to analyze and get a linear regression table \n",
    "data.to_csv(\"HW2_encoded.csv\", header = None)"
   ]
  }
 ],
 "metadata": {
  "kernelspec": {
   "display_name": "Python 3",
   "language": "python",
   "name": "python3"
  },
  "language_info": {
   "codemirror_mode": {
    "name": "ipython",
    "version": 3
   },
   "file_extension": ".py",
   "mimetype": "text/x-python",
   "name": "python",
   "nbconvert_exporter": "python",
   "pygments_lexer": "ipython3",
   "version": "3.6.0"
  }
 },
 "nbformat": 4,
 "nbformat_minor": 2
}
